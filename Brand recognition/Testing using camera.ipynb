{
  "nbformat": 4,
  "nbformat_minor": 0,
  "metadata": {
    "colab": {
      "provenance": [],
      "mount_file_id": "1KSjMQNzZ6to8lyoPGrS16g83jcpa7qGS",
      "authorship_tag": "ABX9TyPkaUbKohzL8ApVdpZ2iZyU",
      "include_colab_link": true
    },
    "kernelspec": {
      "name": "python3",
      "display_name": "Python 3"
    },
    "language_info": {
      "name": "python"
    }
  },
  "cells": [
    {
      "cell_type": "markdown",
      "metadata": {
        "id": "view-in-github",
        "colab_type": "text"
      },
      "source": [
        "<a href=\"https://colab.research.google.com/github/sarveshssk/Machine-learning/blob/main/Brand%20recognition/Testing%20using%20camera.ipynb\" target=\"_parent\"><img src=\"https://colab.research.google.com/assets/colab-badge.svg\" alt=\"Open In Colab\"/></a>"
      ]
    },
    {
      "cell_type": "code",
      "source": [
        "import cv2\n",
        "from IPython.display import display\n",
        "from PIL import Image as PILImage\n",
        "import IPython.display\n",
        "import numpy as np\n",
        "import tensorflow as tf\n",
        "\n",
        "# Load your pre-trained model\n",
        "model = tf.keras.models.load_model(r\"C:\\Users\\ASUS\\brand_recognition.h5\")\n",
        "\n",
        "# Define class names based on your dataset\n",
        "class_names = ['Cinthol Soap',\n",
        " 'Dettol Soap',\n",
        " 'Doritos Cheese Flavour',\n",
        " 'Doritos Flaming Hot',\n",
        " 'Doritos Sweet Chilli Flavour',\n",
        " 'Dove Shampoo',\n",
        " 'Fortune Oil',\n",
        " 'Head&Shoulder Shampoo',\n",
        " 'Lays Classic Salted',\n",
        " 'Lays Magic Masala',\n",
        " 'Lays Spanish Tomato Tango',\n",
        " 'Loreal shampoo',\n",
        " 'Nestle Maggie',\n",
        " 'Patanjali Washing Bar',\n",
        " 'Pears Soap',\n",
        " 'Rin Washing powder',\n",
        " 'Sunny Oil',\n",
        " 'Surf excel washing bar',\n",
        " 'SurfExcel',\n",
        " 'Tide Washing Powder',\n",
        " 'Vim bar' ]  # Update these according to your dataset]  # Update these according to your dataset\n",
        "unknown_class_name = \"Unknown\"  # Name for unknown predictions\n",
        "confidence_threshold = 0.9  # Set your confidence threshold\n",
        "\n",
        "# Initialize the camera\n",
        "cap = cv2.VideoCapture(1)\n",
        "\n",
        "if not cap.isOpened():\n",
        "    print(\"Error: Could not open webcam.\")\n",
        "    cap.release()\n",
        "    exit()\n",
        "\n",
        "try:\n",
        "    while True:\n",
        "        # Capture frame-by-frame\n",
        "        ret, frame = cap.read()\n",
        "        if not ret:\n",
        "            print(\"Failed to grab frame.\")\n",
        "            break\n",
        "\n",
        "        # Resize and preprocess frame for model prediction\n",
        "        img = cv2.resize(frame, (64, 64))  # Adjust to your model's input size\n",
        "        img_rgb = cv2.cvtColor(img, cv2.COLOR_BGR2RGB)\n",
        "        input_arr = np.expand_dims(img_rgb, axis=0)  # Model expects a batch of images\n",
        "\n",
        "        # Make prediction\n",
        "        predictions = model.predict(input_arr)\n",
        "        max_confidence = np.max(predictions)\n",
        "        result_index = np.argmax(predictions)\n",
        "\n",
        "        # Determine the predicted class or unknown\n",
        "        if max_confidence < confidence_threshold:\n",
        "            class_name = unknown_class_name\n",
        "        else:\n",
        "            class_name = class_names[result_index]\n",
        "\n",
        "        # Display the predicted class on the frame\n",
        "        cv2.putText(frame, f\"It's a {class_name} (Confidence: {max_confidence:.2f})\",\n",
        "                    (10, 30), cv2.FONT_HERSHEY_SIMPLEX, 1, (255, 0, 0), 2, cv2.LINE_AA)\n",
        "\n",
        "        # Convert the frame (BGR) to RGB for display\n",
        "        rgb_frame = cv2.cvtColor(frame, cv2.COLOR_BGR2RGB)\n",
        "        pil_im = PILImage.fromarray(rgb_frame)\n",
        "        IPython.display.clear_output(wait=True)\n",
        "        display(pil_im)\n",
        "\n",
        "        # Break the loop by pressing 'q' key\n",
        "        key = cv2.waitKey(1) & 0xFF\n",
        "        if key == ord('q'):\n",
        "            break\n",
        "\n",
        "finally:\n",
        "    # When everything done, release the capture\n",
        "    cap.release()\n",
        "    cv2.destroyAllWindows()"
      ],
      "metadata": {
        "colab": {
          "base_uri": "https://localhost:8080/"
        },
        "id": "LjFEu8a02Exx",
        "outputId": "1e0c92f4-a11b-413d-8d5b-8ea0d420009b",
        "collapsed": true
      },
      "execution_count": null,
      "outputs": [
        {
          "output_type": "stream",
          "name": "stderr",
          "text": [
            "WARNING:absl:Compiled the loaded model, but the compiled metrics have yet to be built. `model.compile_metrics` will be empty until you train or evaluate the model.\n"
          ]
        },
        {
          "output_type": "stream",
          "name": "stdout",
          "text": [
            "Error: Could not open camera.\n",
            "Failed to grab frame.\n"
          ]
        }
      ]
    }
  ]
}