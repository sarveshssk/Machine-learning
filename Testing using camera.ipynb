{
  "nbformat": 4,
  "nbformat_minor": 0,
  "metadata": {
    "colab": {
      "provenance": [],
      "mount_file_id": "1KSjMQNzZ6to8lyoPGrS16g83jcpa7qGS",
      "authorship_tag": "ABX9TyMyStNZ3yeT5U6hfhPZ6tkA",
      "include_colab_link": true
    },
    "kernelspec": {
      "name": "python3",
      "display_name": "Python 3"
    },
    "language_info": {
      "name": "python"
    }
  },
  "cells": [
    {
      "cell_type": "markdown",
      "metadata": {
        "id": "view-in-github",
        "colab_type": "text"
      },
      "source": [
        "<a href=\"https://colab.research.google.com/github/sarveshssk/Machine-learning/blob/main/Testing%20using%20camera.ipynb\" target=\"_parent\"><img src=\"https://colab.research.google.com/assets/colab-badge.svg\" alt=\"Open In Colab\"/></a>"
      ]
    },
    {
      "cell_type": "code",
      "source": [
        "import numpy as np\n",
        "import tensorflow as tf\n",
        "import matplotlib.pyplot as plt\n",
        "import cv2\n",
        "\n",
        "# Load the model\n",
        "cnn = tf.keras.models.load_model('/content/drive/MyDrive/snacks/snacks_model.h5')\n",
        "\n",
        "# Initialize the camera\n",
        "cap = cv2.VideoCapture(0)  # 0 is usually the default camera\n",
        "if not cap.isOpened():\n",
        "    print(\"Error: Could not open camera.\")\n",
        "    exit()\n",
        "\n",
        "while True:\n",
        "    ret, frame = cap.read()\n",
        "    if not ret:\n",
        "        print(\"Failed to grab frame.\")\n",
        "        break\n",
        "\n",
        "    # Resize the frame to the size expected by the model (64x64 in this case)\n",
        "    img = cv2.resize(frame, (64, 64))\n",
        "\n",
        "    # Convert the frame to RGB format for compatibility with model\n",
        "    img_rgb = cv2.cvtColor(img, cv2.COLOR_BGR2RGB)\n",
        "\n",
        "    # Prepare the image for prediction\n",
        "    input_arr = tf.keras.preprocessing.image.img_to_array(img_rgb)\n",
        "    input_arr = np.array([input_arr])  # Convert single image to a batch\n",
        "\n",
        "    # Make prediction\n",
        "    predictions = cnn.predict(input_arr)\n",
        "    result_index = np.argmax(predictions)\n",
        "\n",
        "    # Display the predicted class on the live feed\n",
        "    class_name = \"Unknown\"\n",
        "    if hasattr(test_set, 'class_names'):\n",
        "        class_name = test_set.class_names[result_index]\n",
        "\n",
        "    cv2.putText(frame, f\"It's a {class_name}\", (10, 30), cv2.FONT_HERSHEY_SIMPLEX, 1, (255, 0, 0), 2, cv2.LINE_AA)\n",
        "\n",
        "    # Show the live camera feed with the prediction\n",
        "    cv2.imshow('Live Camera Feed', frame)\n",
        "\n",
        "    # Break the loop if 'q' is pressed\n",
        "    if cv2.waitKey(1) & 0xFF == ord('q'):\n",
        "        break\n",
        "\n",
        "# Release the camera and close all OpenCV windows\n",
        "cap.release()\n",
        "cv2.destroyAllWindows()\n"
      ],
      "metadata": {
        "colab": {
          "base_uri": "https://localhost:8080/"
        },
        "id": "LjFEu8a02Exx",
        "outputId": "1e0c92f4-a11b-413d-8d5b-8ea0d420009b",
        "collapsed": true
      },
      "execution_count": null,
      "outputs": [
        {
          "output_type": "stream",
          "name": "stderr",
          "text": [
            "WARNING:absl:Compiled the loaded model, but the compiled metrics have yet to be built. `model.compile_metrics` will be empty until you train or evaluate the model.\n"
          ]
        },
        {
          "output_type": "stream",
          "name": "stdout",
          "text": [
            "Error: Could not open camera.\n",
            "Failed to grab frame.\n"
          ]
        }
      ]
    }
  ]
}